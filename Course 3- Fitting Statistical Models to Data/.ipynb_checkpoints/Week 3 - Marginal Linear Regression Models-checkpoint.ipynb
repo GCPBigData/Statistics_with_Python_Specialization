{
 "cells": [
  {
   "cell_type": "markdown",
   "metadata": {},
   "source": [
    "# Marginal Linear Regression Models\n",
    "\n",
    "![overview](week-3-img/marginal-modelling-approaches.png)\n",
    "\n",
    "**We have a continuous dependent variable that we assume marginally is normally distributed.**\n",
    "\n",
    "![overview](week-3-img/marginal-lr-model-1.png)\n",
    "\n",
    "\n",
    "\n",
    "* for point 1: We assume that vector of observations on y follows a normal distribution with a mean defined by that regression function, that linear combination of the fixed effects are the beta parameters, and the predictor variables denoted by x sub i, and then this additional variance covariance structure defined by v sub i.\n",
    "\n",
    "* An important part of fitting these models is chosing a structure for these V*i* matrix.\n",
    "\n",
    "## Generalized Estimating Equations\n",
    "\n",
    "**It is a technique used for fitting marginal models**\n",
    "* The score function is a function of the regression parameter (the beta parameters we are interested in).\n",
    "* We are interested in the estimate of the parameters that solve the equation.\n",
    "\n",
    "**When fitting models to dependent data using GEE we seek to estimate the parameters that solve the score function (or estimating equation:**\n",
    "\n",
    "![overview](week-3-img/gee-eqn-parameters-1.png)\n",
    "\n"
   ]
  }
 ],
 "metadata": {
  "kernelspec": {
   "display_name": "Python 3",
   "language": "python",
   "name": "python3"
  },
  "language_info": {
   "codemirror_mode": {
    "name": "ipython",
    "version": 3
   },
   "file_extension": ".py",
   "mimetype": "text/x-python",
   "name": "python",
   "nbconvert_exporter": "python",
   "pygments_lexer": "ipython3",
   "version": "3.7.7"
  }
 },
 "nbformat": 4,
 "nbformat_minor": 4
}
